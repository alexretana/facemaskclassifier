{
 "cells": [
  {
   "cell_type": "code",
   "execution_count": 1,
   "metadata": {},
   "outputs": [],
   "source": [
    "import cv2\n",
    "import numpy as np\n",
    "from imutils.video import VideoStream\n",
    "import imutils\n",
    "import time"
   ]
  },
  {
   "cell_type": "markdown",
   "metadata": {},
   "source": [
    "Caffe .prototxt and weights downloaded from https://github.com/LZQthePlane/Face-detection-base-on-ResnetSSD\n",
    "\n",
    "Pyimagesearch Notebooks used:\n",
    "\n",
    "[Face Detection](https://www.pyimagesearch.com/2018/02/26/face-detection-with-opencv-and-deep-learning/)\n",
    "\n",
    "[Streaming Video Into OpenCV](https://www.pyimagesearch.com/2019/04/15/live-video-streaming-over-network-with-opencv-and-imagezmq/)\n",
    "\n",
    "[blob explaination](https://www.pyimagesearch.com/2017/11/06/deep-learning-opencvs-blobfromimage-works/)\n",
    "\n",
    "[OBS](https://obsproject.com/download) + [OBS virtual cam](https://obsproject.com/forum/resources/obs-virtualcam.949/)"
   ]
  },
  {
   "cell_type": "code",
   "execution_count": 2,
   "metadata": {},
   "outputs": [
    {
     "name": "stdout",
     "output_type": "stream",
     "text": [
      "[INFO] loading model...\n",
      "[INFO] computing object detections...\n"
     ]
    }
   ],
   "source": [
    "#load serialized model from disk\n",
    "print(\"[INFO] loading model...\")\n",
    "net = cv2.dnn.readNetFromCaffe(\"Resnet_SSD_deploy.prototxt\", \"Res10_300x300_SSD_iter_140000.caffemodel\")\n",
    "\n",
    "# load input image and construct blob resized to 300x300\n",
    "image = cv2.imread('profpicalex.jpg')\n",
    "(h, w) = image.shape[:2]\n",
    "blob = cv2.dnn.blobFromImage(cv2.resize(image, (300, 300) ), 1.0, (300, 300), (104.0, 177.0, 123.0))\n",
    "\n",
    "# pass blob through network, obtain detects and predictions\n",
    "print(\"[INFO] computing object detections...\")\n",
    "net.setInput(blob)\n",
    "detections = net.forward()"
   ]
  },
  {
   "cell_type": "code",
   "execution_count": 3,
   "metadata": {},
   "outputs": [],
   "source": [
    "# loop over detects\n",
    "for face in range(0, detections.shape[2]):\n",
    "    # extract the confidence (i.e., probability) associated with the prediction\n",
    "    confidence = detections[0, 0, face, 2]\n",
    "    \n",
    "    #filter out weak detections\n",
    "    if confidence > 0.5:\n",
    "        #compute coordinates of bouding box\n",
    "        box = detections[0,0, face , 3:7] * np.array([w, h, w, h])\n",
    "        (startX, startY, endX, endY) = box.astype(\"int\")\n",
    "        \n",
    "        # draw bouding box with probability label\n",
    "        text = \"{:.2f}%\".format(confidence * 100)\n",
    "        y = startY - 10 if startY - 10 > 10 else startY + 10\n",
    "        cv2.rectangle(image, (startX, startY), (endX, endY), (0, 0, 255), 2)\n",
    "        cv2.putText(image, text, (startX, y), cv2.FONT_HERSHEY_SIMPLEX, 0.45, (0,0,255), 2)\n",
    "\n",
    "#show the output image\n",
    "cv2.imshow(\"Output\", image)\n",
    "cv2.waitKey(0)\n",
    "cv2.destroyAllWindows()"
   ]
  },
  {
   "cell_type": "code",
   "execution_count": 3,
   "metadata": {},
   "outputs": [
    {
     "name": "stdout",
     "output_type": "stream",
     "text": [
      "[INFO] loading model...\n",
      "[INFO] starting video stream...\n"
     ]
    }
   ],
   "source": [
    "#load our model\n",
    "print(\"[INFO] loading model...\")\n",
    "net = cv2.dnn.readNetFromCaffe('Resnet_SSD_deploy.prototxt', 'Res10_300x300_SSD_iter_140000.caffemodel')\n",
    "\n",
    "#initialize the video stream\n",
    "print(\"[INFO] starting video stream...\")\n",
    "vs = VideoStream(src=1).start()\n",
    "time.sleep(2.0)\n",
    "\n",
    "# loop over frames from stream\n",
    "while True:\n",
    "    #grab frame and resize to max width of 400 pixels\n",
    "    frame = vs.read()\n",
    "    frame = imutils.resize(frame, width=400)\n",
    "    \n",
    "    # grab the frame dim and convert blob\n",
    "    (h, w) = frame.shape[:2]\n",
    "    blob = cv2.dnn.blobFromImage(cv2.resize(frame, (300, 300)), 1.0, (300, 300), (104.0, 177.0, 123.0))\n",
    "    \n",
    "    # pass blob through net and obtain detects and pred\n",
    "    net.setInput(blob)\n",
    "    detections = net.forward()\n",
    "    \n",
    "    #loop through detects\n",
    "    for face in range(0, detections.shape[2]):\n",
    "        # extract confidence associated with pred\n",
    "        confidence = detections[0, 0, face, 2]\n",
    "        \n",
    "        #filter ot weak detectons\n",
    "        if confidence < 0.5:\n",
    "            continue\n",
    "            \n",
    "        # compute coordinates of bounding box\n",
    "        box = detections[0, 0, face, 3:7] * np.array([w, h, w, h])\n",
    "        (startX, startY, endX, endY) = box.astype(\"int\")\n",
    "        \n",
    "        # draw bonding box + probability label\n",
    "        text = \"{:.2f}%\".format(confidence * 100)\n",
    "        y = startY - 10 if startY - 10 > 10 else startY + 10\n",
    "        cv2.rectangle(frame, (startX, startY), (endX, endY), (0,0,255), 2)\n",
    "        cv2.putText(frame, text, (startX, y), cv2.FONT_HERSHEY_SIMPLEX, 0.45, (0,0,255), 2)\n",
    "        \n",
    "    # show output frame\n",
    "    cv2.imshow(\"Frame\", frame)\n",
    "    key = cv2.waitKey(1) & 0xFF\n",
    "    \n",
    "    # if the 'q' key was pressed, break from loo\n",
    "    if key == ord(\"q\"):\n",
    "        break\n",
    "\n",
    "# do a bit of cleanup\n",
    "cv2.destroyAllWindows()\n",
    "vs.stop()"
   ]
  },
  {
   "cell_type": "code",
   "execution_count": 5,
   "metadata": {},
   "outputs": [],
   "source": [
    "import time"
   ]
  },
  {
   "cell_type": "code",
   "execution_count": null,
   "metadata": {},
   "outputs": [],
   "source": []
  }
 ],
 "metadata": {
  "kernelspec": {
   "display_name": "Python 3",
   "language": "python",
   "name": "python3"
  },
  "language_info": {
   "codemirror_mode": {
    "name": "ipython",
    "version": 3
   },
   "file_extension": ".py",
   "mimetype": "text/x-python",
   "name": "python",
   "nbconvert_exporter": "python",
   "pygments_lexer": "ipython3",
   "version": "3.7.7"
  }
 },
 "nbformat": 4,
 "nbformat_minor": 4
}
