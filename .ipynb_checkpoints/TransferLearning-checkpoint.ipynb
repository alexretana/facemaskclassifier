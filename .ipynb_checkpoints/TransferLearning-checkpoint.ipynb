{
 "cells": [
  {
   "cell_type": "markdown",
   "metadata": {},
   "source": [
    "# Transfer Learning from Face Detection to Mask Classification"
   ]
  },
  {
   "cell_type": "code",
   "execution_count": 65,
   "metadata": {},
   "outputs": [],
   "source": [
    "import tensorflow as tf\n",
    "from tensorflow import keras\n",
    "import pandas as pd\n",
    "import sklearn\n",
    "import numpy as np\n",
    "import os\n",
    "from imutils import paths\n",
    "import os\n",
    "import shutil"
   ]
  },
  {
   "cell_type": "code",
   "execution_count": 4,
   "metadata": {},
   "outputs": [],
   "source": [
    "ORIG_INPUT_DATASET = \"mask-classifer-images\"\n",
    "BASE_PATH = \"dataset\"\n",
    "\n",
    "TRAIN = \"training\"\n",
    "TEST = \"evaluation\"\n",
    "VAL = \"validation\"\n",
    "\n",
    "CLASSES = [\"Mask\", \"No_Mask\"]\n",
    "\n",
    "BATCH_SIZE = 32"
   ]
  },
  {
   "cell_type": "code",
   "execution_count": 5,
   "metadata": {},
   "outputs": [],
   "source": [
    "LE_PATH  = os.path.sep.join([\"output\", \"le.cpickle\"])\n",
    "BASE_CSV_PATH = \"output\"\n",
    "\n",
    "MODEL_PATH = os.path.sep.join([\"output\", \"model.cpickle\"])\n"
   ]
  },
  {
   "cell_type": "code",
   "execution_count": 28,
   "metadata": {},
   "outputs": [],
   "source": [
    "with open('mask-classifier-images/imglist_train.txt', 'r') as file:\n",
    "    lines = file.readlines()\n",
    "    for idx, line in enumerate(lines):\n",
    "        lines[idx] = line.split()\n",
    "        \n",
    "    df = pd.DataFrame(lines, columns=[\"imgpath\", \"label\"])"
   ]
  },
  {
   "cell_type": "code",
   "execution_count": 45,
   "metadata": {},
   "outputs": [],
   "source": [
    "from sklearn.model_selection import train_test_split\n",
    "\n",
    "X = df[\"imgpath\"]\n",
    "Y = df[\"label\"]\n",
    "\n",
    "X_train, X_val, Y_train, Y_val = train_test_split(X, Y, test_size=0.2, random_state=42)\n",
    "\n"
   ]
  },
  {
   "cell_type": "code",
   "execution_count": 50,
   "metadata": {},
   "outputs": [],
   "source": [
    "with open('mask-classifier-images/imglist_test.txt') as file:\n",
    "    lines = file.readlines()\n",
    "    for idx, line in enumerate(lines):\n",
    "        lines[idx] = line.split()\n",
    "    \n",
    "    df = pd.DataFrame(lines, columns=[\"imgpath\", \"label\"])\n",
    "    \n",
    "X_test, Y_test = df[\"imgpath\"], df[\"label\"]"
   ]
  },
  {
   "cell_type": "code",
   "execution_count": 53,
   "metadata": {},
   "outputs": [],
   "source": [
    "pathDict = {TRAIN:{'X':X_train,'Y':Y_train},\n",
    "            TEST:{'X':X_test,'Y':Y_test},\n",
    "            VAL:{'X':X_val,'Y':Y_val}}\n",
    "    "
   ]
  },
  {
   "cell_type": "code",
   "execution_count": 66,
   "metadata": {},
   "outputs": [
    {
     "name": "stdout",
     "output_type": "stream",
     "text": [
      "[]\n",
      "[]\n",
      "[]\n"
     ]
    }
   ],
   "source": [
    "for split, val in pathDict.items():\n",
    "    p = os.path.sep.join([ORIG_INPUT_DATASET, split])\n",
    "    imagePaths = list(paths.list_images(p))\n",
    "    print(imagePaths)"
   ]
  },
  {
   "cell_type": "code",
   "execution_count": null,
   "metadata": {},
   "outputs": [],
   "source": []
  }
 ],
 "metadata": {
  "kernelspec": {
   "display_name": "Python 3",
   "language": "python",
   "name": "python3"
  },
  "language_info": {
   "codemirror_mode": {
    "name": "ipython",
    "version": 3
   },
   "file_extension": ".py",
   "mimetype": "text/x-python",
   "name": "python",
   "nbconvert_exporter": "python",
   "pygments_lexer": "ipython3",
   "version": "3.7.7"
  }
 },
 "nbformat": 4,
 "nbformat_minor": 4
}
