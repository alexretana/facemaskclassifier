{
 "cells": [
  {
   "cell_type": "markdown",
   "metadata": {},
   "source": [
    "# Transer Learning - Fine Tuning\n",
    "\n",
    "Following up from the last notebook, this one is continuing the path of Transfer Learning for the task of classifying faces as wearing masks or not. The last notebook went over the quick and powerful method of feature extraction, but in the case where the results aren't sufficiently accurate, the method of fine tuning can be used.\n",
    "\n",
    "Similiar to before, the VGG16 Convulution Nueral Network Architecture pretrained on ImageNet was used as the source model. The final Fully Connected (FC) layers at the end are removed, exposing the output of the model to be the (7 * 7 * 512) vector. \n",
    "\n",
    "From here, a new model is made using the output of the headless VGG16 as the input of this model. In this project the new \"head\" is a single FC layer (following a dropout layer) leading to a dense softmax classification layer.\n",
    "\n",
    "Below some more details will be discuss, but please acknowledge that this project was guided/inspired heavily by this [Pyimagesearch.com blog post](https://www.pyimagesearch.com/2019/06/03/fine-tuning-with-keras-and-deep-learning/)"
   ]
  },
  {
   "cell_type": "code",
   "execution_count": 16,
   "metadata": {},
   "outputs": [],
   "source": [
    "from sklearn.preprocessing import LabelEncoder\n",
    "from sklearn.model_selection import train_test_split\n",
    "from tensorflow.keras.preprocessing.image import img_to_array, load_img\n",
    "from tensorflow.keras.applications import VGG16\n",
    "from tensorflow.keras.applications.vgg16 import preprocess_input\n",
    "from imutils import paths\n",
    "import pandas as pd\n",
    "import numpy as np\n",
    "import pickle\n",
    "import random\n",
    "import os\n",
    "from sklearn.linear_model import LogisticRegression\n",
    "from sklearn.metrics import classification_report\n",
    "\n",
    "\n",
    "\n",
    "\n",
    "\n",
    "# Variable Constants #\n",
    "ORIG_INPUT_DATASET = \"mask-classifier-images\"\n",
    "BASE_PATH = \"dataset\"\n",
    "\n",
    "TRAIN = \"training\"\n",
    "TEST = \"evaluation\"\n",
    "VAL = \"validation\"\n",
    "\n",
    "CLASSES = [\"Mask\", \"No_Mask\"]\n",
    "\n",
    "LE_PATH = os.path.sep.join([\"output\", \"le.cpickle\"])\n",
    "BASE_CSV_PATH = \"output\"\n",
    "\n",
    "MODEL_PATH = os.path.sep.join([\"output\", \"maskclassifier.model\"])\n",
    "\n",
    "BATCH_SIZE = 32\n",
    "\n",
    "# define the path to the output training history plots\n",
    "UNFROZEN_PLOT_PATH = os.path.sep.join([\"output\", \"unfrozen.png\"])\n",
    "WARMUP_PLOT_PATH = os.path.sep.join([\"output\", \"warmup.png\"])"
   ]
  },
  {
   "cell_type": "code",
   "execution_count": 2,
   "metadata": {},
   "outputs": [],
   "source": [
    "from tensorflow.keras.preprocessing.image import ImageDataGenerator\n",
    "from tensorflow.keras.applications import VGG16\n",
    "from tensorflow.keras.layers import Dropout\n",
    "from tensorflow.keras.layers import Flatten\n",
    "from tensorflow.keras.layers import Dense\n",
    "from tensorflow.keras.layers import Input\n",
    "from tensorflow.keras.models import Model\n",
    "from tensorflow.keras.optimizers import SGD\n",
    "from sklearn.metrics import classification_report\n",
    "from imutils import paths\n",
    "import matplotlib.pyplot as plt\n",
    "import numpy as np\n",
    "import os"
   ]
  },
  {
   "cell_type": "markdown",
   "metadata": {},
   "source": [
    "This function was provided by Pyimagesearch blog post. It plots the results of the training metrics (i.e. loss and accuracy)"
   ]
  },
  {
   "cell_type": "code",
   "execution_count": 3,
   "metadata": {},
   "outputs": [],
   "source": [
    "def plot_training(H, N, plotPath):\n",
    "    # construct a plot that plots and saves the training history\n",
    "    plt.style.use(\"ggplot\")\n",
    "    plt.figure()\n",
    "    plt.plot(np.arange(0, N), H.history[\"loss\"], label=\"train_loss\")\n",
    "    plt.plot(np.arange(0, N), H.history[\"val_loss\"], label=\"val_loss\")\n",
    "    plt.plot(np.arange(0, N), H.history[\"accuracy\"], label=\"train_acc\")\n",
    "    plt.plot(np.arange(0, N), H.history[\"val_accuracy\"], label=\"val_acc\")\n",
    "    plt.title(\"Training Loss and Accuracy\")\n",
    "    plt.xlabel(\"Epoch #\")\n",
    "    plt.ylabel(\"Loss/Accuracy\")\n",
    "    plt.legend(loc=\"lower left\")\n",
    "    plt.savefig(plotPath)"
   ]
  },
  {
   "cell_type": "markdown",
   "metadata": {},
   "source": [
    "Below the paths for the training, validation, and test data are declared"
   ]
  },
  {
   "cell_type": "code",
   "execution_count": 6,
   "metadata": {},
   "outputs": [],
   "source": [
    "trainPath = os.path.sep.join([ORIG_INPUT_DATASET, BASE_PATH, TRAIN])\n",
    "valPath = os.path.sep.join([ORIG_INPUT_DATASET, BASE_PATH, VAL])\n",
    "testPath = os.path.sep.join([ORIG_INPUT_DATASET, BASE_PATH, TEST])\n",
    "\n",
    "# determine the total number of image paths in training, validation,\n",
    "# and testing directories\n",
    "totalTrain = len(list(paths.list_images(trainPath)))\n",
    "totalVal = len(list(paths.list_images(valPath)))\n",
    "totalTest = len(list(paths.list_images(testPath)))"
   ]
  },
  {
   "cell_type": "markdown",
   "metadata": {},
   "source": [
    "The next cell creates an ImagaDataGenerator, a class to preform data augmentation, the techniques of altering images to create larger robust training data. This function also generates the augmentated data in real time when the training batch is produced. Parameters were chosen according to the suggestions from Pyimagesearch."
   ]
  },
  {
   "cell_type": "code",
   "execution_count": 4,
   "metadata": {},
   "outputs": [],
   "source": [
    "# initialize the training data augmentation object\n",
    "trainAug = ImageDataGenerator(\n",
    "    rotation_range=30,\n",
    "    zoom_range=0.15,\n",
    "    width_shift_range=0.2,\n",
    "    height_shift_range=0.2,\n",
    "    shear_range=0.15,\n",
    "    horizontal_flip=True,\n",
    "    fill_mode=\"nearest\")\n",
    "# initialize the validation/testing data augmentation object (which\n",
    "# we'll be adding mean subtraction to)\n",
    "valAug = ImageDataGenerator()\n",
    "# define the ImageNet mean subtraction (in RGB order) and set the\n",
    "# the mean subtraction value for each of the data augmentation\n",
    "# objects\n",
    "mean = np.array([123.68, 116.779, 103.939], dtype=\"float32\")\n",
    "trainAug.mean = mean\n",
    "valAug.mean = mean"
   ]
  },
  {
   "cell_type": "code",
   "execution_count": 11,
   "metadata": {},
   "outputs": [
    {
     "name": "stdout",
     "output_type": "stream",
     "text": [
      "Found 6763 images belonging to 2 classes.\n",
      "Found 1691 images belonging to 2 classes.\n",
      "Found 2114 images belonging to 2 classes.\n"
     ]
    }
   ],
   "source": [
    "# initialize the training generator\n",
    "trainGen = trainAug.flow_from_directory(\n",
    "    trainPath,\n",
    "    class_mode=\"categorical\",\n",
    "    target_size=(224, 224),\n",
    "    color_mode=\"rgb\",\n",
    "    shuffle=True,\n",
    "    batch_size=BATCH_SIZE)\n",
    "# initialize the validation generator\n",
    "valGen = valAug.flow_from_directory(\n",
    "    valPath,\n",
    "    class_mode=\"categorical\",\n",
    "    target_size=(224, 224),\n",
    "    color_mode=\"rgb\",\n",
    "    shuffle=False,\n",
    "    batch_size=BATCH_SIZE)\n",
    "# initialize the testing generator\n",
    "testGen = valAug.flow_from_directory(\n",
    "    testPath,\n",
    "    class_mode=\"categorical\",\n",
    "    target_size=(224, 224),\n",
    "    color_mode=\"rgb\",\n",
    "    shuffle=False,\n",
    "    batch_size=BATCH_SIZE)"
   ]
  },
  {
   "cell_type": "markdown",
   "metadata": {},
   "source": [
    "In the cell below, the base model is loaded in headless, exposing the (7 * 7 * 512) output layer. The new model is built using the base model's output as the new model's input. Then the last line \"stitches\" the two models together into one full model"
   ]
  },
  {
   "cell_type": "code",
   "execution_count": 14,
   "metadata": {},
   "outputs": [],
   "source": [
    "#load VGG16 pretrained on imagenet with its top removed\n",
    "baseModel = VGG16(weights=\"imagenet\", include_top=False, input_tensor=Input(shape=(224, 224, 3)))\n",
    "\n",
    "#contruct the new model head\n",
    "headModel = baseModel.output\n",
    "headModel = Flatten(name=\"flatten\")(headModel)\n",
    "headModel = Dense(512, activation=\"relu\")(headModel)\n",
    "headModel = Dropout(0.5)(headModel)\n",
    "headModel = Dense(len(CLASSES), activation=\"softmax\")(headModel)\n",
    "\n",
    "#this next line \"stitches\" the new head to the topless VGG16 pretrained model\n",
    "model = Model(inputs=baseModel.input, outputs=headModel)"
   ]
  },
  {
   "cell_type": "markdown",
   "metadata": {},
   "source": [
    "When fine tuning, the goal is to leverage what was already learned in the pretrained model while training the new head, and to avoid losing things learning in those layers, they will be frozen while training."
   ]
  },
  {
   "cell_type": "code",
   "execution_count": 15,
   "metadata": {},
   "outputs": [],
   "source": [
    "#this lines freezes the pretrained layers by looping through them\n",
    "for layer in baseModel.layers:\n",
    "    layer.trainable = False"
   ]
  },
  {
   "cell_type": "markdown",
   "metadata": {},
   "source": [
    "The model is compliled using Stocatic Gradient Decent. The model is then fit using 50 epochs, and it took about 11 hours to train using the GTX 1080 graphics card. Afterwards, the testing data was used to evaluate the results, and a plot was made of the loss, accuracy, validation loss and validation accuracy."
   ]
  },
  {
   "cell_type": "code",
   "execution_count": 19,
   "metadata": {
    "scrolled": true
   },
   "outputs": [
    {
     "name": "stdout",
     "output_type": "stream",
     "text": [
      "[INFO] compiling model...\n",
      "Epoch 1/50\n",
      "211/211 [==============================] - 791s 4s/step - loss: 1.2669 - accuracy: 0.7005 - val_loss: 0.3996 - val_accuracy: 0.8341\n",
      "Epoch 2/50\n",
      "211/211 [==============================] - 784s 4s/step - loss: 0.5385 - accuracy: 0.7712 - val_loss: 0.3440 - val_accuracy: 0.8654\n",
      "Epoch 3/50\n",
      "211/211 [==============================] - 767s 4s/step - loss: 0.4733 - accuracy: 0.7856 - val_loss: 0.3262 - val_accuracy: 0.8672\n",
      "Epoch 4/50\n",
      "211/211 [==============================] - 779s 4s/step - loss: 0.4303 - accuracy: 0.8110 - val_loss: 0.3283 - val_accuracy: 0.8702\n",
      "Epoch 5/50\n",
      "211/211 [==============================] - 812s 4s/step - loss: 0.4144 - accuracy: 0.8150 - val_loss: 0.2898 - val_accuracy: 0.8762\n",
      "Epoch 6/50\n",
      "211/211 [==============================] - 808s 4s/step - loss: 0.4037 - accuracy: 0.8217 - val_loss: 0.2772 - val_accuracy: 0.8870\n",
      "Epoch 7/50\n",
      "211/211 [==============================] - 792s 4s/step - loss: 0.3931 - accuracy: 0.8287 - val_loss: 0.3112 - val_accuracy: 0.8594\n",
      "Epoch 8/50\n",
      "211/211 [==============================] - 795s 4s/step - loss: 0.3694 - accuracy: 0.8419 - val_loss: 0.2717 - val_accuracy: 0.8846\n",
      "Epoch 9/50\n",
      "211/211 [==============================] - 800s 4s/step - loss: 0.3637 - accuracy: 0.8449 - val_loss: 0.2673 - val_accuracy: 0.8930\n",
      "Epoch 10/50\n",
      "211/211 [==============================] - 797s 4s/step - loss: 0.3599 - accuracy: 0.8461 - val_loss: 0.2653 - val_accuracy: 0.8954\n",
      "Epoch 11/50\n",
      "211/211 [==============================] - 769s 4s/step - loss: 0.3436 - accuracy: 0.8532 - val_loss: 0.2532 - val_accuracy: 0.9056\n",
      "Epoch 12/50\n",
      "211/211 [==============================] - 777s 4s/step - loss: 0.3378 - accuracy: 0.8559 - val_loss: 0.2479 - val_accuracy: 0.8996\n",
      "Epoch 13/50\n",
      "211/211 [==============================] - 778s 4s/step - loss: 0.3276 - accuracy: 0.8615 - val_loss: 0.2432 - val_accuracy: 0.9014\n",
      "Epoch 14/50\n",
      "211/211 [==============================] - 772s 4s/step - loss: 0.3200 - accuracy: 0.8641 - val_loss: 0.2427 - val_accuracy: 0.8996\n",
      "Epoch 15/50\n",
      "211/211 [==============================] - 771s 4s/step - loss: 0.3074 - accuracy: 0.8666 - val_loss: 0.2362 - val_accuracy: 0.9075\n",
      "Epoch 16/50\n",
      "211/211 [==============================] - 776s 4s/step - loss: 0.3215 - accuracy: 0.8624 - val_loss: 0.2465 - val_accuracy: 0.9026\n",
      "Epoch 17/50\n",
      "211/211 [==============================] - 778s 4s/step - loss: 0.3087 - accuracy: 0.8710 - val_loss: 0.2376 - val_accuracy: 0.9081\n",
      "Epoch 18/50\n",
      "211/211 [==============================] - 777s 4s/step - loss: 0.3025 - accuracy: 0.8706 - val_loss: 0.2318 - val_accuracy: 0.9081\n",
      "Epoch 19/50\n",
      "211/211 [==============================] - 775s 4s/step - loss: 0.2970 - accuracy: 0.8682 - val_loss: 0.2337 - val_accuracy: 0.9069\n",
      "Epoch 20/50\n",
      "211/211 [==============================] - 777s 4s/step - loss: 0.3082 - accuracy: 0.8707 - val_loss: 0.2362 - val_accuracy: 0.9008\n",
      "Epoch 21/50\n",
      "211/211 [==============================] - 783s 4s/step - loss: 0.2965 - accuracy: 0.8762 - val_loss: 0.2735 - val_accuracy: 0.8894\n",
      "Epoch 22/50\n",
      "211/211 [==============================] - 757s 4s/step - loss: 0.3005 - accuracy: 0.8746 - val_loss: 0.2248 - val_accuracy: 0.9026\n",
      "Epoch 23/50\n",
      "211/211 [==============================] - 753s 4s/step - loss: 0.2893 - accuracy: 0.8770 - val_loss: 0.2279 - val_accuracy: 0.9087\n",
      "Epoch 24/50\n",
      "211/211 [==============================] - 757s 4s/step - loss: 0.2926 - accuracy: 0.8810 - val_loss: 0.2300 - val_accuracy: 0.9135\n",
      "Epoch 25/50\n",
      "211/211 [==============================] - 762s 4s/step - loss: 0.2924 - accuracy: 0.8765 - val_loss: 0.2247 - val_accuracy: 0.9129\n",
      "Epoch 26/50\n",
      "211/211 [==============================] - 764s 4s/step - loss: 0.2808 - accuracy: 0.8831 - val_loss: 0.2235 - val_accuracy: 0.9123\n",
      "Epoch 27/50\n",
      "211/211 [==============================] - 769s 4s/step - loss: 0.2787 - accuracy: 0.8868 - val_loss: 0.2164 - val_accuracy: 0.9141\n",
      "Epoch 28/50\n",
      "211/211 [==============================] - 768s 4s/step - loss: 0.2688 - accuracy: 0.8863 - val_loss: 0.2113 - val_accuracy: 0.9165\n",
      "Epoch 29/50\n",
      "211/211 [==============================] - 763s 4s/step - loss: 0.2804 - accuracy: 0.8771 - val_loss: 0.2118 - val_accuracy: 0.9153\n",
      "Epoch 30/50\n",
      "211/211 [==============================] - 767s 4s/step - loss: 0.2666 - accuracy: 0.8852 - val_loss: 0.2128 - val_accuracy: 0.9171\n",
      "Epoch 31/50\n",
      "211/211 [==============================] - 769s 4s/step - loss: 0.2714 - accuracy: 0.8858 - val_loss: 0.2148 - val_accuracy: 0.9135\n",
      "Epoch 32/50\n",
      "211/211 [==============================] - 770s 4s/step - loss: 0.2665 - accuracy: 0.8875 - val_loss: 0.2145 - val_accuracy: 0.9147\n",
      "Epoch 33/50\n",
      "211/211 [==============================] - 768s 4s/step - loss: 0.2741 - accuracy: 0.8855 - val_loss: 0.2178 - val_accuracy: 0.9117\n",
      "Epoch 34/50\n",
      "211/211 [==============================] - 765s 4s/step - loss: 0.2617 - accuracy: 0.8877 - val_loss: 0.2170 - val_accuracy: 0.9117\n",
      "Epoch 35/50\n",
      "211/211 [==============================] - 765s 4s/step - loss: 0.2671 - accuracy: 0.8908 - val_loss: 0.2123 - val_accuracy: 0.9117\n",
      "Epoch 36/50\n",
      "211/211 [==============================] - 770s 4s/step - loss: 0.2678 - accuracy: 0.8883 - val_loss: 0.2322 - val_accuracy: 0.9105\n",
      "Epoch 37/50\n",
      "211/211 [==============================] - 770s 4s/step - loss: 0.2562 - accuracy: 0.8907 - val_loss: 0.2095 - val_accuracy: 0.9165\n",
      "Epoch 38/50\n",
      "211/211 [==============================] - 770s 4s/step - loss: 0.2515 - accuracy: 0.8915 - val_loss: 0.2085 - val_accuracy: 0.9177\n",
      "Epoch 39/50\n",
      "211/211 [==============================] - 794s 4s/step - loss: 0.2451 - accuracy: 0.8939 - val_loss: 0.2111 - val_accuracy: 0.9171\n",
      "Epoch 40/50\n",
      "211/211 [==============================] - 816s 4s/step - loss: 0.2621 - accuracy: 0.8923 - val_loss: 0.2068 - val_accuracy: 0.9177\n",
      "Epoch 41/50\n",
      "211/211 [==============================] - 758s 4s/step - loss: 0.2557 - accuracy: 0.8914 - val_loss: 0.2042 - val_accuracy: 0.9171\n",
      "Epoch 42/50\n",
      "211/211 [==============================] - 760s 4s/step - loss: 0.2470 - accuracy: 0.8947 - val_loss: 0.2092 - val_accuracy: 0.9153\n",
      "Epoch 43/50\n",
      "211/211 [==============================] - 756s 4s/step - loss: 0.2380 - accuracy: 0.9009 - val_loss: 0.2025 - val_accuracy: 0.9213\n",
      "Epoch 44/50\n",
      "211/211 [==============================] - 757s 4s/step - loss: 0.2507 - accuracy: 0.8956 - val_loss: 0.2082 - val_accuracy: 0.9207\n",
      "Epoch 45/50\n",
      "211/211 [==============================] - 760s 4s/step - loss: 0.2505 - accuracy: 0.8947 - val_loss: 0.2020 - val_accuracy: 0.9189\n",
      "Epoch 46/50\n",
      "211/211 [==============================] - 766s 4s/step - loss: 0.2411 - accuracy: 0.8987 - val_loss: 0.2009 - val_accuracy: 0.9219\n",
      "Epoch 47/50\n",
      "211/211 [==============================] - 764s 4s/step - loss: 0.2393 - accuracy: 0.9019 - val_loss: 0.1992 - val_accuracy: 0.9219\n",
      "Epoch 48/50\n",
      "211/211 [==============================] - 764s 4s/step - loss: 0.2344 - accuracy: 0.9030 - val_loss: 0.1959 - val_accuracy: 0.9231\n",
      "Epoch 49/50\n",
      "211/211 [==============================] - 764s 4s/step - loss: 0.2342 - accuracy: 0.9030 - val_loss: 0.1985 - val_accuracy: 0.9207\n",
      "Epoch 50/50\n",
      "211/211 [==============================] - 769s 4s/step - loss: 0.2247 - accuracy: 0.9104 - val_loss: 0.1995 - val_accuracy: 0.9231\n",
      "[INFO] evaluating after fine-tuning network head...\n"
     ]
    },
    {
     "ename": "NameError",
     "evalue": "name 'preIdxs' is not defined",
     "output_type": "error",
     "traceback": [
      "\u001b[1;31m---------------------------------------------------------------------------\u001b[0m",
      "\u001b[1;31mNameError\u001b[0m                                 Traceback (most recent call last)",
      "\u001b[1;32m<ipython-input-19-edd1d3a6ba8e>\u001b[0m in \u001b[0;36m<module>\u001b[1;34m\u001b[0m\n\u001b[0;32m     14\u001b[0m predIdxs = model.predict(x=testGen,\n\u001b[0;32m     15\u001b[0m                          steps = (totalTest // BATCH_SIZE) + 1)\n\u001b[1;32m---> 16\u001b[1;33m \u001b[0mpredIdxs\u001b[0m \u001b[1;33m=\u001b[0m \u001b[0mnp\u001b[0m\u001b[1;33m.\u001b[0m\u001b[0margmax\u001b[0m\u001b[1;33m(\u001b[0m\u001b[0mpreIdxs\u001b[0m\u001b[1;33m,\u001b[0m \u001b[0maxis\u001b[0m\u001b[1;33m=\u001b[0m\u001b[1;36m1\u001b[0m\u001b[1;33m)\u001b[0m\u001b[1;33m\u001b[0m\u001b[1;33m\u001b[0m\u001b[0m\n\u001b[0m\u001b[0;32m     17\u001b[0m \u001b[0mprint\u001b[0m\u001b[1;33m(\u001b[0m\u001b[0mclassification_report\u001b[0m\u001b[1;33m(\u001b[0m\u001b[0mtestGen\u001b[0m\u001b[1;33m.\u001b[0m\u001b[0mclasses\u001b[0m\u001b[1;33m,\u001b[0m \u001b[0mpredIdxs\u001b[0m\u001b[1;33m,\u001b[0m \u001b[0mtarget_names\u001b[0m\u001b[1;33m=\u001b[0m\u001b[0mtestGen\u001b[0m\u001b[1;33m.\u001b[0m\u001b[0mclass_indices\u001b[0m\u001b[1;33m.\u001b[0m\u001b[0mkeys\u001b[0m\u001b[1;33m(\u001b[0m\u001b[1;33m)\u001b[0m\u001b[1;33m)\u001b[0m\u001b[1;33m)\u001b[0m\u001b[1;33m\u001b[0m\u001b[1;33m\u001b[0m\u001b[0m\n\u001b[0;32m     18\u001b[0m \u001b[0mplot_training\u001b[0m\u001b[1;33m(\u001b[0m\u001b[0mH\u001b[0m\u001b[1;33m,\u001b[0m \u001b[1;36m50\u001b[0m\u001b[1;33m,\u001b[0m \u001b[0mWARMUP_PLOT_PATH\u001b[0m\u001b[1;33m)\u001b[0m\u001b[1;33m\u001b[0m\u001b[1;33m\u001b[0m\u001b[0m\n",
      "\u001b[1;31mNameError\u001b[0m: name 'preIdxs' is not defined"
     ]
    }
   ],
   "source": [
    "print(\"[INFO] compiling model...\")\n",
    "opt = SGD(lr=1e-4, momentum=0.9)\n",
    "model.compile(loss = \"categorical_crossentropy\", optimizer=opt, metrics=[\"accuracy\"])\n",
    "\n",
    "#train model while base model is fozen\n",
    "H = model.fit(x=trainGen,\n",
    "              steps_per_epoch=totalTrain // BATCH_SIZE,\n",
    "              validation_data=valGen,\n",
    "             validation_steps= totalVal // BATCH_SIZE,\n",
    "             epochs=50)\n",
    "#reset testing generator and evaluate results\n",
    "print(\"[INFO] evaluating after fine-tuning network head...\")\n",
    "testGen.reset()\n",
    "predIdxs = model.predict(x=testGen,\n",
    "                         steps = (totalTest // BATCH_SIZE) + 1)\n",
    "predIdxs = np.argmax(predIdxs, axis=1)\n",
    "print(classification_report(testGen.classes, predIdxs, target_names=testGen.class_indices.keys()))\n",
    "plot_training(H, 50, WARMUP_PLOT_PATH)"
   ]
  },
  {
   "cell_type": "code",
   "execution_count": 20,
   "metadata": {},
   "outputs": [
    {
     "name": "stdout",
     "output_type": "stream",
     "text": [
      "              precision    recall  f1-score   support\n",
      "\n",
      "        Mask       0.92      0.89      0.90       861\n",
      "     No_Mask       0.92      0.95      0.93      1253\n",
      "\n",
      "    accuracy                           0.92      2114\n",
      "   macro avg       0.92      0.92      0.92      2114\n",
      "weighted avg       0.92      0.92      0.92      2114\n",
      "\n"
     ]
    },
    {
     "data": {
      "image/png": "[encoded data removed]",
      "text/plain": [
       "<Figure size 432x288 with 1 Axes>"
      ]
     },
     "metadata": {},
     "output_type": "display_data"
    }
   ],
   "source": [
    "predIdxs = np.argmax(predIdxs, axis=1)\n",
    "print(classification_report(testGen.classes, predIdxs, target_names=testGen.class_indices.keys()))\n",
    "plot_training(H, 50, WARMUP_PLOT_PATH)"
   ]
  },
  {
   "cell_type": "markdown",
   "metadata": {},
   "source": [
    "Looking at the classification report, the results are actually a bit worse than that of feature extraction, despite taking the 11 hours to train. However, more can be done. From here the last layer from the base mode can be unfrozen and retrained for a shorter amount of time. This creates a better synergy between the old and new models' layers"
   ]
  },
  {
   "cell_type": "code",
   "execution_count": 21,
   "metadata": {},
   "outputs": [
    {
     "name": "stdout",
     "output_type": "stream",
     "text": [
      "<tensorflow.python.keras.engine.input_layer.InputLayer object at 0x0000022547A9CC18>: False\n",
      "<tensorflow.python.keras.layers.convolutional.Conv2D object at 0x0000022547AA97B8>: False\n",
      "<tensorflow.python.keras.layers.convolutional.Conv2D object at 0x0000022547AA99E8>: False\n",
      "<tensorflow.python.keras.layers.pooling.MaxPooling2D object at 0x0000022547AA9DD8>: False\n",
      "<tensorflow.python.keras.layers.convolutional.Conv2D object at 0x0000022547ABCA20>: False\n",
      "<tensorflow.python.keras.layers.convolutional.Conv2D object at 0x0000022547B05828>: False\n",
      "<tensorflow.python.keras.layers.pooling.MaxPooling2D object at 0x0000022547B05780>: False\n",
      "<tensorflow.python.keras.layers.convolutional.Conv2D object at 0x0000022547B0D390>: False\n",
      "<tensorflow.python.keras.layers.convolutional.Conv2D object at 0x0000022547B0DEF0>: False\n",
      "<tensorflow.python.keras.layers.convolutional.Conv2D object at 0x0000022547B1F438>: False\n",
      "<tensorflow.python.keras.layers.pooling.MaxPooling2D object at 0x0000022547B1FD30>: False\n",
      "<tensorflow.python.keras.layers.convolutional.Conv2D object at 0x0000022547B349B0>: False\n",
      "<tensorflow.python.keras.layers.convolutional.Conv2D object at 0x0000022547B3F780>: False\n",
      "<tensorflow.python.keras.layers.convolutional.Conv2D object at 0x0000022547B3F5F8>: False\n",
      "<tensorflow.python.keras.layers.pooling.MaxPooling2D object at 0x000002254871A780>: False\n",
      "<tensorflow.python.keras.layers.convolutional.Conv2D object at 0x000002254871AFD0>: True\n",
      "<tensorflow.python.keras.layers.convolutional.Conv2D object at 0x0000022548730DA0>: True\n",
      "<tensorflow.python.keras.layers.convolutional.Conv2D object at 0x0000022548730C18>: True\n",
      "<tensorflow.python.keras.layers.pooling.MaxPooling2D object at 0x0000022548738978>: True\n"
     ]
    }
   ],
   "source": [
    "# reset our data generators\n",
    "trainGen.reset()\n",
    "valGen.reset()\n",
    "\n",
    "#unfreeze CONV layers from base model\n",
    "for layer in baseModel.layers[15:]:\n",
    "    layer.trainable=True\n",
    "    \n",
    "for layer in baseModel.layers:\n",
    "    print(\"{}: {}\".format(layer, layer.trainable))"
   ]
  },
  {
   "cell_type": "code",
   "execution_count": 22,
   "metadata": {},
   "outputs": [
    {
     "name": "stdout",
     "output_type": "stream",
     "text": [
      "[INFO] re-compiling model...\n",
      "Epoch 1/20\n",
      "211/211 [==============================] - 909s 4s/step - loss: 0.2134 - accuracy: 0.9118 - val_loss: 0.1518 - val_accuracy: 0.9411\n",
      "Epoch 2/20\n",
      "211/211 [==============================] - 906s 4s/step - loss: 0.1576 - accuracy: 0.9375 - val_loss: 0.1344 - val_accuracy: 0.9525\n",
      "Epoch 3/20\n",
      "211/211 [==============================] - 907s 4s/step - loss: 0.1393 - accuracy: 0.9458 - val_loss: 0.1298 - val_accuracy: 0.9585\n",
      "Epoch 4/20\n",
      "211/211 [==============================] - 908s 4s/step - loss: 0.1236 - accuracy: 0.9550 - val_loss: 0.1084 - val_accuracy: 0.9621\n",
      "Epoch 5/20\n",
      "211/211 [==============================] - 902s 4s/step - loss: 0.1147 - accuracy: 0.9580 - val_loss: 0.1596 - val_accuracy: 0.9423\n",
      "Epoch 6/20\n",
      "211/211 [==============================] - 900s 4s/step - loss: 0.1043 - accuracy: 0.9608 - val_loss: 0.0970 - val_accuracy: 0.9675\n",
      "Epoch 7/20\n",
      "211/211 [==============================] - 900s 4s/step - loss: 0.1008 - accuracy: 0.9609 - val_loss: 0.0986 - val_accuracy: 0.9657\n",
      "Epoch 8/20\n",
      "211/211 [==============================] - 900s 4s/step - loss: 0.0931 - accuracy: 0.9637 - val_loss: 0.1257 - val_accuracy: 0.9519\n",
      "Epoch 9/20\n",
      "211/211 [==============================] - 900s 4s/step - loss: 0.0921 - accuracy: 0.9652 - val_loss: 0.1034 - val_accuracy: 0.9627\n",
      "Epoch 10/20\n",
      "211/211 [==============================] - 898s 4s/step - loss: 0.0865 - accuracy: 0.9669 - val_loss: 0.1294 - val_accuracy: 0.9519\n",
      "Epoch 11/20\n",
      "211/211 [==============================] - 902s 4s/step - loss: 0.0789 - accuracy: 0.9710 - val_loss: 0.0900 - val_accuracy: 0.9718\n",
      "Epoch 12/20\n",
      "211/211 [==============================] - 900s 4s/step - loss: 0.0777 - accuracy: 0.9676 - val_loss: 0.0901 - val_accuracy: 0.9657\n",
      "Epoch 13/20\n",
      "211/211 [==============================] - 898s 4s/step - loss: 0.0781 - accuracy: 0.9728 - val_loss: 0.0974 - val_accuracy: 0.9645\n",
      "Epoch 14/20\n",
      "211/211 [==============================] - 909s 4s/step - loss: 0.0677 - accuracy: 0.9752 - val_loss: 0.0841 - val_accuracy: 0.9700\n",
      "Epoch 15/20\n",
      "211/211 [==============================] - 902s 4s/step - loss: 0.0819 - accuracy: 0.9685 - val_loss: 0.0931 - val_accuracy: 0.9639\n",
      "Epoch 16/20\n",
      "211/211 [==============================] - 897s 4s/step - loss: 0.0638 - accuracy: 0.9762 - val_loss: 0.0886 - val_accuracy: 0.9681\n",
      "Epoch 17/20\n",
      "211/211 [==============================] - 898s 4s/step - loss: 0.0775 - accuracy: 0.9703 - val_loss: 0.0821 - val_accuracy: 0.9712\n",
      "Epoch 18/20\n",
      "211/211 [==============================] - 899s 4s/step - loss: 0.0594 - accuracy: 0.9776 - val_loss: 0.0798 - val_accuracy: 0.9700\n",
      "Epoch 19/20\n",
      "211/211 [==============================] - 900s 4s/step - loss: 0.0617 - accuracy: 0.9753 - val_loss: 0.1235 - val_accuracy: 0.9567\n",
      "Epoch 20/20\n",
      "211/211 [==============================] - 900s 4s/step - loss: 0.0597 - accuracy: 0.9765 - val_loss: 0.0855 - val_accuracy: 0.9706\n"
     ]
    }
   ],
   "source": [
    "print(\"[INFO] re-compiling model...\")\n",
    "opt = SGD(lr=1e-4, momentum=0.9)\n",
    "model.compile(loss=\"categorical_crossentropy\", optimizer=opt, metrics=[\"accuracy\"])\n",
    "\n",
    "H = model.fit(x=trainGen,\n",
    "              steps_per_epoch=totalTrain // BATCH_SIZE,\n",
    "              validation_data=valGen,\n",
    "              validation_steps=totalVal // BATCH_SIZE,\n",
    "              epochs=20)"
   ]
  },
  {
   "cell_type": "code",
   "execution_count": 24,
   "metadata": {},
   "outputs": [
    {
     "name": "stdout",
     "output_type": "stream",
     "text": [
      "[INFO] evaluating after fine-tunning network...\n",
      "              precision    recall  f1-score   support\n",
      "\n",
      "        Mask       0.97      0.97      0.97       861\n",
      "     No_Mask       0.98      0.98      0.98      1253\n",
      "\n",
      "    accuracy                           0.98      2114\n",
      "   macro avg       0.98      0.98      0.98      2114\n",
      "weighted avg       0.98      0.98      0.98      2114\n",
      "\n",
      "[INFO] serializing network...\n"
     ]
    },
    {
     "data": {
      "image/png": "[encoded data removed]",
      "text/plain": [
       "<Figure size 432x288 with 1 Axes>"
      ]
     },
     "metadata": {},
     "output_type": "display_data"
    }
   ],
   "source": [
    "print(\"[INFO] evaluating after fine-tunning network...\")\n",
    "testGen.reset()\n",
    "predIdxs = model.predict(x=testGen,\n",
    "                         steps=(totalTest // BATCH_SIZE) + 1)\n",
    "predIdxs = np.argmax(predIdxs, axis=1)\n",
    "print(classification_report(testGen.classes, predIdxs, target_names=testGen.class_indices.keys()))\n",
    "\n",
    "plot_training(H, 20, UNFROZEN_PLOT_PATH)\n",
    "\n",
    "# serialize the model to disk\n",
    "print(\"[INFO] serializing network...\")\n",
    "model.save(MODEL_PATH, save_format=\"h5\")"
   ]
  },
  {
   "cell_type": "markdown",
   "metadata": {},
   "source": [
    "The results after this second line of training actually fine tuned the model to beat the feature extraction results, showing it definetly made a difference. Since the results were so good, the model was saved in .h5 format."
   ]
  },
  {
   "cell_type": "code",
   "execution_count": null,
   "metadata": {},
   "outputs": [],
   "source": []
  }
 ],
 "metadata": {
  "kernelspec": {
   "display_name": "Python 3",
   "language": "python",
   "name": "python3"
  },
  "language_info": {
   "codemirror_mode": {
    "name": "ipython",
    "version": 3
   },
   "file_extension": ".py",
   "mimetype": "text/x-python",
   "name": "python",
   "nbconvert_exporter": "python",
   "pygments_lexer": "ipython3",
   "version": "3.7.2"
  }
 },
 "nbformat": 4,
 "nbformat_minor": 4
}
